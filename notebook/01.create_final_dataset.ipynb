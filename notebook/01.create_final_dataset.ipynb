{
 "cells": [
  {
   "cell_type": "markdown",
   "metadata": {},
   "source": [
    "# Create final dataset"
   ]
  },
  {
   "cell_type": "code",
   "execution_count": 2,
   "metadata": {},
   "outputs": [],
   "source": [
    "import pandas as pd"
   ]
  },
  {
   "cell_type": "code",
   "execution_count": 3,
   "metadata": {},
   "outputs": [
    {
     "data": {
      "text/plain": [
       "Unnamed: 0             int64\n",
       "id                    object\n",
       "donor_id              object\n",
       "payment_platform      object\n",
       "portfolio             object\n",
       "amount               float64\n",
       "currency              object\n",
       "date                  object\n",
       "counterfactuality    float64\n",
       "pledge_id             object\n",
       "multiplier           float64\n",
       "amount_usd           float64\n",
       "year                   int64\n",
       "dtype: object"
      ]
     },
     "execution_count": 3,
     "metadata": {},
     "output_type": "execute_result"
    }
   ],
   "source": [
    "df_payements = pd.read_csv('payments_amount_usd.csv')\n",
    "df_payements.dtypes"
   ]
  },
  {
   "cell_type": "markdown",
   "metadata": {},
   "source": [
    "## Add month"
   ]
  },
  {
   "cell_type": "code",
   "execution_count": 4,
   "metadata": {},
   "outputs": [],
   "source": [
    "df_payements['date'] = pd.to_datetime(df_payements['date'])\n",
    "df_payements['month'] = df_payements['date'].dt.to_period('M')"
   ]
  },
  {
   "cell_type": "markdown",
   "metadata": {},
   "source": [
    "## Merge with pledges"
   ]
  },
  {
   "cell_type": "code",
   "execution_count": 5,
   "metadata": {},
   "outputs": [
    {
     "data": {
      "text/plain": [
       "donor_id                       object\n",
       "pledge_id                      object\n",
       "donor_chapter                  object\n",
       "chapter_type                   object\n",
       "pledge_status                  object\n",
       "pledge_created_at      datetime64[ns]\n",
       "pledge_starts_at       datetime64[ns]\n",
       "pledge_ended_at        datetime64[ns]\n",
       "contribution_amount           float64\n",
       "currency                       object\n",
       "frequency                      object\n",
       "payment_platform               object\n",
       "dtype: object"
      ]
     },
     "execution_count": 5,
     "metadata": {},
     "output_type": "execute_result"
    }
   ],
   "source": [
    "df_pledges = pd.read_json('pledges.json')\n",
    "df_pledges.dtypes"
   ]
  },
  {
   "cell_type": "code",
   "execution_count": 6,
   "metadata": {},
   "outputs": [],
   "source": [
    "df_merged = df_payements.merge(df_pledges, how='inner', on='pledge_id', suffixes=('_payements', '_pledges'))"
   ]
  },
  {
   "cell_type": "code",
   "execution_count": 7,
   "metadata": {},
   "outputs": [
    {
     "data": {
      "text/plain": [
       "Unnamed: 0                             int64\n",
       "id                                    object\n",
       "donor_id_payements                    object\n",
       "payment_platform_payements            object\n",
       "portfolio                             object\n",
       "amount                               float64\n",
       "currency_payements                    object\n",
       "date                          datetime64[ns]\n",
       "counterfactuality                    float64\n",
       "pledge_id                             object\n",
       "multiplier                           float64\n",
       "amount_usd                           float64\n",
       "year                                   int64\n",
       "month                              period[M]\n",
       "donor_id_pledges                      object\n",
       "donor_chapter                         object\n",
       "chapter_type                          object\n",
       "pledge_status                         object\n",
       "pledge_created_at             datetime64[ns]\n",
       "pledge_starts_at              datetime64[ns]\n",
       "pledge_ended_at               datetime64[ns]\n",
       "contribution_amount                  float64\n",
       "currency_pledges                      object\n",
       "frequency                             object\n",
       "payment_platform_pledges              object\n",
       "dtype: object"
      ]
     },
     "execution_count": 7,
     "metadata": {},
     "output_type": "execute_result"
    }
   ],
   "source": [
    "df_merged.dtypes"
   ]
  },
  {
   "cell_type": "code",
   "execution_count": 8,
   "metadata": {},
   "outputs": [],
   "source": [
    "cols_to_drop = [col for col in df_merged.columns if col.endswith('_pledges')]"
   ]
  },
  {
   "cell_type": "code",
   "execution_count": 9,
   "metadata": {},
   "outputs": [
    {
     "data": {
      "text/plain": [
       "['donor_id_pledges', 'currency_pledges', 'payment_platform_pledges']"
      ]
     },
     "execution_count": 9,
     "metadata": {},
     "output_type": "execute_result"
    }
   ],
   "source": [
    "cols_to_drop"
   ]
  },
  {
   "cell_type": "code",
   "execution_count": 10,
   "metadata": {},
   "outputs": [],
   "source": [
    "df_merged = df_merged.drop(columns=cols_to_drop)"
   ]
  },
  {
   "cell_type": "code",
   "execution_count": 11,
   "metadata": {},
   "outputs": [
    {
     "data": {
      "text/plain": [
       "Unnamed: 0                             int64\n",
       "id                                    object\n",
       "donor_id_payements                    object\n",
       "payment_platform_payements            object\n",
       "portfolio                             object\n",
       "amount                               float64\n",
       "currency_payements                    object\n",
       "date                          datetime64[ns]\n",
       "counterfactuality                    float64\n",
       "pledge_id                             object\n",
       "multiplier                           float64\n",
       "amount_usd                           float64\n",
       "year                                   int64\n",
       "month                              period[M]\n",
       "donor_chapter                         object\n",
       "chapter_type                          object\n",
       "pledge_status                         object\n",
       "pledge_created_at             datetime64[ns]\n",
       "pledge_starts_at              datetime64[ns]\n",
       "pledge_ended_at               datetime64[ns]\n",
       "contribution_amount                  float64\n",
       "frequency                             object\n",
       "dtype: object"
      ]
     },
     "execution_count": 11,
     "metadata": {},
     "output_type": "execute_result"
    }
   ],
   "source": [
    "df_merged.dtypes"
   ]
  },
  {
   "cell_type": "code",
   "execution_count": 12,
   "metadata": {},
   "outputs": [
    {
     "data": {
      "text/plain": [
       "['donor_id_payements', 'payment_platform_payements', 'currency_payements']"
      ]
     },
     "execution_count": 12,
     "metadata": {},
     "output_type": "execute_result"
    }
   ],
   "source": [
    "cols_to_rename = [col for col in df_merged.columns if col.endswith('_payements')]\n",
    "cols_to_rename"
   ]
  },
  {
   "cell_type": "code",
   "execution_count": 13,
   "metadata": {},
   "outputs": [],
   "source": [
    "df_merged.rename(\n",
    "    columns=lambda col: col.replace('_payements', '') if col.endswith('_payements') else col,\n",
    "    inplace=True\n",
    ")"
   ]
  },
  {
   "cell_type": "code",
   "execution_count": 14,
   "metadata": {},
   "outputs": [
    {
     "data": {
      "text/html": [
       "<div>\n",
       "<style scoped>\n",
       "    .dataframe tbody tr th:only-of-type {\n",
       "        vertical-align: middle;\n",
       "    }\n",
       "\n",
       "    .dataframe tbody tr th {\n",
       "        vertical-align: top;\n",
       "    }\n",
       "\n",
       "    .dataframe thead th {\n",
       "        text-align: right;\n",
       "    }\n",
       "</style>\n",
       "<table border=\"1\" class=\"dataframe\">\n",
       "  <thead>\n",
       "    <tr style=\"text-align: right;\">\n",
       "      <th></th>\n",
       "      <th>Unnamed: 0</th>\n",
       "      <th>id</th>\n",
       "      <th>donor_id</th>\n",
       "      <th>payment_platform</th>\n",
       "      <th>portfolio</th>\n",
       "      <th>amount</th>\n",
       "      <th>currency</th>\n",
       "      <th>date</th>\n",
       "      <th>counterfactuality</th>\n",
       "      <th>pledge_id</th>\n",
       "      <th>...</th>\n",
       "      <th>year</th>\n",
       "      <th>month</th>\n",
       "      <th>donor_chapter</th>\n",
       "      <th>chapter_type</th>\n",
       "      <th>pledge_status</th>\n",
       "      <th>pledge_created_at</th>\n",
       "      <th>pledge_starts_at</th>\n",
       "      <th>pledge_ended_at</th>\n",
       "      <th>contribution_amount</th>\n",
       "      <th>frequency</th>\n",
       "    </tr>\n",
       "  </thead>\n",
       "  <tbody>\n",
       "    <tr>\n",
       "      <th>0</th>\n",
       "      <td>2</td>\n",
       "      <td>5B5XGD4RTX</td>\n",
       "      <td>NaN</td>\n",
       "      <td>Benevity</td>\n",
       "      <td>OFTW Top Picks</td>\n",
       "      <td>-100.00</td>\n",
       "      <td>USD</td>\n",
       "      <td>2024-02-01</td>\n",
       "      <td>0.313636</td>\n",
       "      <td>7373fca9-78cc-4954-baaa-b2acebac595b</td>\n",
       "      <td>...</td>\n",
       "      <td>2024</td>\n",
       "      <td>2024-02</td>\n",
       "      <td>Netflix</td>\n",
       "      <td></td>\n",
       "      <td>One-Time</td>\n",
       "      <td>2024-02-01</td>\n",
       "      <td>2024-02-01</td>\n",
       "      <td>NaT</td>\n",
       "      <td>-100.00</td>\n",
       "      <td>One-Time</td>\n",
       "    </tr>\n",
       "    <tr>\n",
       "      <th>1</th>\n",
       "      <td>3</td>\n",
       "      <td>3Z5NNTTCSD</td>\n",
       "      <td>NaN</td>\n",
       "      <td>Benevity</td>\n",
       "      <td>OFTW Top Picks</td>\n",
       "      <td>-1.01</td>\n",
       "      <td>USD</td>\n",
       "      <td>2022-09-23</td>\n",
       "      <td>0.313636</td>\n",
       "      <td>5e6bc702-7990-4351-a5b5-4cf39401c379</td>\n",
       "      <td>...</td>\n",
       "      <td>2022</td>\n",
       "      <td>2022-09</td>\n",
       "      <td>Microsoft</td>\n",
       "      <td>Corporate</td>\n",
       "      <td>One-Time</td>\n",
       "      <td>2022-09-23</td>\n",
       "      <td>2022-09-23</td>\n",
       "      <td>NaT</td>\n",
       "      <td>-1.01</td>\n",
       "      <td>One-Time</td>\n",
       "    </tr>\n",
       "    <tr>\n",
       "      <th>2</th>\n",
       "      <td>4</td>\n",
       "      <td>31V9VD2AAV</td>\n",
       "      <td>NaN</td>\n",
       "      <td>Benevity</td>\n",
       "      <td>OFTW Top Picks</td>\n",
       "      <td>0.00</td>\n",
       "      <td>USD</td>\n",
       "      <td>2021-11-19</td>\n",
       "      <td>0.313636</td>\n",
       "      <td>8a8c1bc3-a6a4-4819-a8c1-732e7a88408b</td>\n",
       "      <td>...</td>\n",
       "      <td>2021</td>\n",
       "      <td>2021-11</td>\n",
       "      <td>Bain Capital Community Partnership</td>\n",
       "      <td></td>\n",
       "      <td>One-Time</td>\n",
       "      <td>2021-11-19</td>\n",
       "      <td>2021-11-19</td>\n",
       "      <td>NaT</td>\n",
       "      <td>0.00</td>\n",
       "      <td>One-Time</td>\n",
       "    </tr>\n",
       "    <tr>\n",
       "      <th>3</th>\n",
       "      <td>5</td>\n",
       "      <td>31V9VJBAN5</td>\n",
       "      <td>NaN</td>\n",
       "      <td>Benevity</td>\n",
       "      <td>OFTW Top Picks</td>\n",
       "      <td>0.00</td>\n",
       "      <td>USD</td>\n",
       "      <td>2021-11-19</td>\n",
       "      <td>0.313636</td>\n",
       "      <td>8a8c1bc3-a6a4-4819-a8c1-732e7a88408b</td>\n",
       "      <td>...</td>\n",
       "      <td>2021</td>\n",
       "      <td>2021-11</td>\n",
       "      <td>Bain Capital Community Partnership</td>\n",
       "      <td></td>\n",
       "      <td>One-Time</td>\n",
       "      <td>2021-11-19</td>\n",
       "      <td>2021-11-19</td>\n",
       "      <td>NaT</td>\n",
       "      <td>0.00</td>\n",
       "      <td>One-Time</td>\n",
       "    </tr>\n",
       "    <tr>\n",
       "      <th>4</th>\n",
       "      <td>6</td>\n",
       "      <td>31V9VMC0YD</td>\n",
       "      <td>NaN</td>\n",
       "      <td>Benevity</td>\n",
       "      <td>OFTW Top Picks</td>\n",
       "      <td>0.00</td>\n",
       "      <td>USD</td>\n",
       "      <td>2021-11-19</td>\n",
       "      <td>0.313636</td>\n",
       "      <td>d16156a3-e981-4019-80ae-bceb2daaf047</td>\n",
       "      <td>...</td>\n",
       "      <td>2021</td>\n",
       "      <td>2021-11</td>\n",
       "      <td>Bain Capital Community Partnership</td>\n",
       "      <td></td>\n",
       "      <td>One-Time</td>\n",
       "      <td>2021-11-19</td>\n",
       "      <td>2021-11-19</td>\n",
       "      <td>NaT</td>\n",
       "      <td>0.00</td>\n",
       "      <td>One-Time</td>\n",
       "    </tr>\n",
       "  </tbody>\n",
       "</table>\n",
       "<p>5 rows × 22 columns</p>\n",
       "</div>"
      ],
      "text/plain": [
       "   Unnamed: 0          id donor_id payment_platform       portfolio  amount  \\\n",
       "0           2  5B5XGD4RTX      NaN         Benevity  OFTW Top Picks -100.00   \n",
       "1           3  3Z5NNTTCSD      NaN         Benevity  OFTW Top Picks   -1.01   \n",
       "2           4  31V9VD2AAV      NaN         Benevity  OFTW Top Picks    0.00   \n",
       "3           5  31V9VJBAN5      NaN         Benevity  OFTW Top Picks    0.00   \n",
       "4           6  31V9VMC0YD      NaN         Benevity  OFTW Top Picks    0.00   \n",
       "\n",
       "  currency       date  counterfactuality  \\\n",
       "0      USD 2024-02-01           0.313636   \n",
       "1      USD 2022-09-23           0.313636   \n",
       "2      USD 2021-11-19           0.313636   \n",
       "3      USD 2021-11-19           0.313636   \n",
       "4      USD 2021-11-19           0.313636   \n",
       "\n",
       "                              pledge_id  ...  year    month  \\\n",
       "0  7373fca9-78cc-4954-baaa-b2acebac595b  ...  2024  2024-02   \n",
       "1  5e6bc702-7990-4351-a5b5-4cf39401c379  ...  2022  2022-09   \n",
       "2  8a8c1bc3-a6a4-4819-a8c1-732e7a88408b  ...  2021  2021-11   \n",
       "3  8a8c1bc3-a6a4-4819-a8c1-732e7a88408b  ...  2021  2021-11   \n",
       "4  d16156a3-e981-4019-80ae-bceb2daaf047  ...  2021  2021-11   \n",
       "\n",
       "                        donor_chapter chapter_type pledge_status  \\\n",
       "0                             Netflix                   One-Time   \n",
       "1                           Microsoft    Corporate      One-Time   \n",
       "2  Bain Capital Community Partnership                   One-Time   \n",
       "3  Bain Capital Community Partnership                   One-Time   \n",
       "4  Bain Capital Community Partnership                   One-Time   \n",
       "\n",
       "  pledge_created_at pledge_starts_at pledge_ended_at contribution_amount  \\\n",
       "0        2024-02-01       2024-02-01             NaT             -100.00   \n",
       "1        2022-09-23       2022-09-23             NaT               -1.01   \n",
       "2        2021-11-19       2021-11-19             NaT                0.00   \n",
       "3        2021-11-19       2021-11-19             NaT                0.00   \n",
       "4        2021-11-19       2021-11-19             NaT                0.00   \n",
       "\n",
       "  frequency  \n",
       "0  One-Time  \n",
       "1  One-Time  \n",
       "2  One-Time  \n",
       "3  One-Time  \n",
       "4  One-Time  \n",
       "\n",
       "[5 rows x 22 columns]"
      ]
     },
     "execution_count": 14,
     "metadata": {},
     "output_type": "execute_result"
    }
   ],
   "source": [
    "df_merged.head()"
   ]
  },
  {
   "cell_type": "code",
   "execution_count": 15,
   "metadata": {},
   "outputs": [
    {
     "data": {
      "text/plain": [
       "Unnamed: 0                      int64\n",
       "id                             object\n",
       "donor_id                       object\n",
       "payment_platform               object\n",
       "portfolio                      object\n",
       "amount                        float64\n",
       "currency                       object\n",
       "date                   datetime64[ns]\n",
       "counterfactuality             float64\n",
       "pledge_id                      object\n",
       "multiplier                    float64\n",
       "amount_usd                    float64\n",
       "year                            int64\n",
       "month                       period[M]\n",
       "donor_chapter                  object\n",
       "chapter_type                   object\n",
       "pledge_status                  object\n",
       "pledge_created_at      datetime64[ns]\n",
       "pledge_starts_at       datetime64[ns]\n",
       "pledge_ended_at        datetime64[ns]\n",
       "contribution_amount           float64\n",
       "frequency                      object\n",
       "dtype: object"
      ]
     },
     "execution_count": 15,
     "metadata": {},
     "output_type": "execute_result"
    }
   ],
   "source": [
    "df_merged.dtypes"
   ]
  },
  {
   "cell_type": "markdown",
   "metadata": {},
   "source": [
    "- Drop unnamed"
   ]
  },
  {
   "cell_type": "code",
   "execution_count": 20,
   "metadata": {},
   "outputs": [
    {
     "data": {
      "text/plain": [
       "Unnamed: 0                      int64\n",
       "id                             object\n",
       "donor_id                       object\n",
       "payment_platform               object\n",
       "portfolio                      object\n",
       "amount                        float64\n",
       "currency                       object\n",
       "date                   datetime64[ns]\n",
       "counterfactuality             float64\n",
       "pledge_id                      object\n",
       "multiplier                    float64\n",
       "amount_usd                    float64\n",
       "year                            int64\n",
       "month                       period[M]\n",
       "donor_chapter                  object\n",
       "chapter_type                   object\n",
       "pledge_status                  object\n",
       "pledge_created_at      datetime64[ns]\n",
       "pledge_starts_at       datetime64[ns]\n",
       "pledge_ended_at        datetime64[ns]\n",
       "contribution_amount           float64\n",
       "frequency                      object\n",
       "dtype: object"
      ]
     },
     "execution_count": 20,
     "metadata": {},
     "output_type": "execute_result"
    }
   ],
   "source": [
    "df_merged.dtypes"
   ]
  },
  {
   "cell_type": "markdown",
   "metadata": {},
   "source": [
    "## Export to CSV"
   ]
  },
  {
   "cell_type": "code",
   "execution_count": 17,
   "metadata": {},
   "outputs": [
    {
     "data": {
      "text/plain": [
       "np.float64(42.227601051330566)"
      ]
     },
     "execution_count": 17,
     "metadata": {},
     "output_type": "execute_result"
    }
   ],
   "source": [
    "df_merged.shape\n",
    "df_merged.memory_usage(deep=True).sum() / (1024**2)  # en Mo"
   ]
  },
  {
   "cell_type": "code",
   "execution_count": 23,
   "metadata": {},
   "outputs": [
    {
     "data": {
      "text/plain": [
       "id                             object\n",
       "donor_id                       object\n",
       "payment_platform               object\n",
       "portfolio                      object\n",
       "amount                        float64\n",
       "currency                       object\n",
       "date                   datetime64[ns]\n",
       "counterfactuality             float64\n",
       "pledge_id                      object\n",
       "multiplier                    float64\n",
       "amount_usd                    float64\n",
       "year                            int64\n",
       "month                       period[M]\n",
       "donor_chapter                  object\n",
       "chapter_type                   object\n",
       "pledge_status                  object\n",
       "pledge_created_at      datetime64[ns]\n",
       "pledge_starts_at       datetime64[ns]\n",
       "pledge_ended_at        datetime64[ns]\n",
       "contribution_amount           float64\n",
       "frequency                      object\n",
       "dtype: object"
      ]
     },
     "execution_count": 23,
     "metadata": {},
     "output_type": "execute_result"
    }
   ],
   "source": [
    "df_merged.dtypes"
   ]
  },
  {
   "cell_type": "code",
   "execution_count": 22,
   "metadata": {},
   "outputs": [],
   "source": [
    "df_merged = df_merged.drop(columns='Unnamed: 0')"
   ]
  },
  {
   "cell_type": "code",
   "execution_count": 24,
   "metadata": {},
   "outputs": [],
   "source": [
    "df_merged.to_csv('payments_and_pledges.csv', index=False)"
   ]
  },
  {
   "cell_type": "markdown",
   "metadata": {},
   "source": []
  },
  {
   "cell_type": "markdown",
   "metadata": {},
   "source": []
  }
 ],
 "metadata": {
  "kernelspec": {
   "display_name": "Python 3",
   "language": "python",
   "name": "python3"
  },
  "language_info": {
   "codemirror_mode": {
    "name": "ipython",
    "version": 3
   },
   "file_extension": ".py",
   "mimetype": "text/x-python",
   "name": "python",
   "nbconvert_exporter": "python",
   "pygments_lexer": "ipython3",
   "version": "3.11.5"
  }
 },
 "nbformat": 4,
 "nbformat_minor": 2
}
