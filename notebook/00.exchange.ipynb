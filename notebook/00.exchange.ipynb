{
 "cells": [
  {
   "cell_type": "markdown",
   "metadata": {},
   "source": [
    "# Exchange FYTD"
   ]
  },
  {
   "cell_type": "code",
   "execution_count": 4,
   "metadata": {},
   "outputs": [],
   "source": [
    "import pandas as pd\n",
    "import pandas_datareader.data as pd_dr_web\n",
    "from datetime import datetime\n",
    "from typing import Union, List"
   ]
  },
  {
   "cell_type": "code",
   "execution_count": 20,
   "metadata": {},
   "outputs": [],
   "source": [
    "def add_usd_conversion(df_raw: pd.DataFrame, cols_to_exclude: Union[List[str], None] = None) -> pd.DataFrame:\n",
    "\n",
    "    start_date, end_date = df_raw['date'].min(), df_raw['date'].max()\n",
    "\n",
    "    # Exclude portfolio columns\n",
    "    df_filtered = df_raw.query(\"portfolio not in @cols_to_exclude\").copy() if cols_to_exclude else df_raw.copy()\n",
    "\n",
    "    # df_payments_ytd.reset_index(drop=True, inplace=True)\n",
    "\n",
    "    df_conversion = pd_dr_web.DataReader(\n",
    "        [\"DEXUSUK\", \"DEXCAUS\", \"DEXUSAL\", \"DEXUSEU\", \"DEXSIUS\", \"DEXSZUS\"], \n",
    "        \"fred\",\n",
    "        start_date,\n",
    "        end_date\n",
    "    )\n",
    "\n",
    "    # First, create a complete date range\n",
    "    date_range = pd.date_range(\n",
    "        start=start_date,\n",
    "        end=end_date,\n",
    "        freq='D'\n",
    "    )\n",
    "\n",
    "    # Reindex the dataframe with the complete date range and back fill the values\n",
    "    df_conversion = df_conversion.reindex(date_range).bfill()\n",
    "\n",
    "    # Create a dictionary for each currency's conversion rates\n",
    "    conversion_rates = {\n",
    "        'USD': 1.0,\n",
    "        'GBP': df_conversion['DEXUSUK'],\n",
    "        'CAD': 1/df_conversion['DEXCAUS'],  # Inverting for division\n",
    "        'AUD': df_conversion['DEXUSAL'],\n",
    "        'EUR': df_conversion['DEXUSEU'],\n",
    "        'SGD': 1/df_conversion['DEXSIUS'],  # Inverting for division\n",
    "        'CHF': 1/df_conversion['DEXSZUS']   # Inverting for division\n",
    "    }\n",
    "\n",
    "    # Create the conversion multiplier series based on currency\n",
    "    df_filtered['multiplier'] = df_filtered.apply(\n",
    "        lambda row: 1 if row[\"currency\"] == \"USD\"\n",
    "            else conversion_rates[row[\"currency\"]][row[\"date\"]],\n",
    "        axis=1\n",
    "    )\n",
    "\n",
    "    # Multiply amount by the conversion rate\n",
    "    df_filtered['amount_usd'] = (\n",
    "        df_filtered['amount'] * df_filtered['multiplier']\n",
    "    ).round(2)\n",
    "\n",
    "    return df_filtered"
   ]
  },
  {
   "cell_type": "code",
   "execution_count": 21,
   "metadata": {},
   "outputs": [],
   "source": [
    "COLS_TO_EXCLUDE = ['One for the World Discretionary Fund', 'One for the World Operating Costs']"
   ]
  },
  {
   "cell_type": "code",
   "execution_count": 22,
   "metadata": {},
   "outputs": [],
   "source": [
    "df_payments_converted_to_usd = add_usd_conversion(df_raw=pd.read_json('payments.json'), cols_to_exclude=COLS_TO_EXCLUDE)"
   ]
  },
  {
   "cell_type": "markdown",
   "metadata": {},
   "source": [
    "## Add `year` column"
   ]
  },
  {
   "cell_type": "code",
   "execution_count": 27,
   "metadata": {},
   "outputs": [],
   "source": [
    "df_payments_converted_to_usd['year'] = df_payments_converted_to_usd.date.dt.year"
   ]
  },
  {
   "cell_type": "code",
   "execution_count": null,
   "metadata": {},
   "outputs": [
    {
     "ename": "",
     "evalue": "",
     "output_type": "error",
     "traceback": [
      "\u001b[1;31mThe Kernel crashed while executing code in the current cell or a previous cell. \n",
      "\u001b[1;31mPlease review the code in the cell(s) to identify a possible cause of the failure. \n",
      "\u001b[1;31mClick <a href='https://aka.ms/vscodeJupyterKernelCrash'>here</a> for more info. \n",
      "\u001b[1;31mView Jupyter <a href='command:jupyter.viewOutput'>log</a> for further details."
     ]
    }
   ],
   "source": [
    "df_payments_converted_to_usd.to_csv('payments_amount_usd.csv')"
   ]
  },
  {
   "cell_type": "code",
   "execution_count": null,
   "metadata": {},
   "outputs": [],
   "source": []
  },
  {
   "cell_type": "code",
   "execution_count": null,
   "metadata": {},
   "outputs": [],
   "source": []
  }
 ],
 "metadata": {
  "kernelspec": {
   "display_name": "Python 3",
   "language": "python",
   "name": "python3"
  },
  "language_info": {
   "codemirror_mode": {
    "name": "ipython",
    "version": 3
   },
   "file_extension": ".py",
   "mimetype": "text/x-python",
   "name": "python",
   "nbconvert_exporter": "python",
   "pygments_lexer": "ipython3",
   "version": "3.11.5"
  }
 },
 "nbformat": 4,
 "nbformat_minor": 2
}
